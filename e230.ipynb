{
 "cells": [
  {
   "cell_type": "raw",
   "metadata": {},
   "source": [
    "A= '1415926535897932384626433832795028841971693993751058209749445923078164062862089986280348253421170679'\n",
    "B= '8214808651328230664709384460955058223172535940812848111745028410270193852110555964462294895493038196'"
   ]
  },
  {
   "cell_type": "code",
   "execution_count": 2,
   "metadata": {},
   "outputs": [
    {
     "name": "stdout",
     "output_type": "stream",
     "text": [
      "100\n",
      "100\n"
     ]
    }
   ],
   "source": [
    "print(len(str(A)))\n",
    "print(len(str(B)))"
   ]
  },
  {
   "cell_type": "code",
   "execution_count": 2,
   "metadata": {},
   "outputs": [],
   "source": [
    "def concatinate(a,b,le):\n",
    "    c= ''\n",
    "    while(len(c)<le):\n",
    "        c= a+b\n",
    "        a=b \n",
    "        b=c\n",
    "    return(int(c[le-1]))"
   ]
  },
  {
   "cell_type": "code",
   "execution_count": 3,
   "metadata": {},
   "outputs": [
    {
     "data": {
      "text/plain": [
       "9"
      ]
     },
     "execution_count": 3,
     "metadata": {},
     "output_type": "execute_result"
    }
   ],
   "source": [
    "x='1415926535'\n",
    "y='8979323846'\n",
    "concatinate(x,y,35)"
   ]
  },
  {
   "cell_type": "code",
   "execution_count": 1,
   "metadata": {},
   "outputs": [],
   "source": [
    "def result():\n",
    "    result=0\n",
    "    for n in range(15,16):\n",
    "        result+=((10**n)*concatinate(A,B,((127+19*n)*(7**n))))\n",
    "    return result\n"
   ]
  },
  {
   "cell_type": "code",
   "execution_count": 7,
   "metadata": {},
   "outputs": [],
   "source": [
    "def solve(n, A, B):\n",
    "    len_str = len(a)\n",
    "    ab = a + b\n",
    "    i1 = 1\n",
    "    i2 = 2\n",
    "    while i2 * len_str < n:\n",
    "        t = i2\n",
    "        i2 += i1\n",
    "        i1 = t\n",
    "    while i2 > 2:\n",
    "        t = i1\n",
    "        i1 = i2 - i1\n",
    "        i2 = t\n",
    "        if n <= i1 * len_str:\n",
    "            n += i2 * len_str\n",
    "        n -= i1 * len_str\n",
    "    return int(ab[n-1])"
   ]
  },
  {
   "cell_type": "code",
   "execution_count": 28,
   "metadata": {},
   "outputs": [],
   "source": [
    "def res():\n",
    "    result=0\n",
    "    for n in range(15,16):\n",
    "        result+=(10**n)*concatinate(A,B,(127+19*n)*(7**n))\n",
    "    return result\n",
    "    "
   ]
  },
  {
   "cell_type": "code",
   "execution_count": null,
   "metadata": {},
   "outputs": [],
   "source": [
    "res()"
   ]
  },
  {
   "cell_type": "code",
   "execution_count": null,
   "metadata": {},
   "outputs": [],
   "source": []
  }
 ],
 "metadata": {
  "kernelspec": {
   "display_name": "Python 3",
   "language": "python",
   "name": "python3"
  },
  "language_info": {
   "codemirror_mode": {
    "name": "ipython",
    "version": 3
   },
   "file_extension": ".py",
   "mimetype": "text/x-python",
   "name": "python",
   "nbconvert_exporter": "python",
   "pygments_lexer": "ipython3",
   "version": "3.7.4"
  }
 },
 "nbformat": 4,
 "nbformat_minor": 4
}
