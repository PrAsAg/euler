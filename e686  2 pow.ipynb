{
 "cells": [
  {
   "cell_type": "code",
   "execution_count": 1,
   "metadata": {},
   "outputs": [],
   "source": [
    "import math"
   ]
  },
  {
   "cell_type": "code",
   "execution_count": 2,
   "metadata": {},
   "outputs": [],
   "source": [
    "def testdf(n):\n",
    "    logn = math.log(2,10)*n\n",
    "    diff = (logn - int(logn))    \n",
    "    return diff"
   ]
  },
  {
   "cell_type": "code",
   "execution_count": 5,
   "metadata": {},
   "outputs": [],
   "source": [
    "maxn = 100000000\n",
    "i= 90\n",
    "rank = 0\n",
    "previ=0\n",
    "lb = math.log(1.23,10)\n",
    "ub = math.log(1.24,10)"
   ]
  },
  {
   "cell_type": "code",
   "execution_count": 6,
   "metadata": {},
   "outputs": [
    {
     "name": "stdout",
     "output_type": "stream",
     "text": [
      "193060223\n"
     ]
    }
   ],
   "source": [
    "while(rank<678910):\n",
    "    diff = testdf(i)    \n",
    "    if (diff)>=ub:\n",
    "        i+=93\n",
    "    elif(diff < lb):\n",
    "        i+=196\n",
    "    else:\n",
    "        rank+=1\n",
    "        previ=i\n",
    "        i+=196\n",
    "print(previ)"
   ]
  },
  {
   "cell_type": "code",
   "execution_count": null,
   "metadata": {},
   "outputs": [],
   "source": []
  }
 ],
 "metadata": {
  "kernelspec": {
   "display_name": "Python 3",
   "language": "python",
   "name": "python3"
  },
  "language_info": {
   "codemirror_mode": {
    "name": "ipython",
    "version": 3
   },
   "file_extension": ".py",
   "mimetype": "text/x-python",
   "name": "python",
   "nbconvert_exporter": "python",
   "pygments_lexer": "ipython3",
   "version": "3.7.4"
  }
 },
 "nbformat": 4,
 "nbformat_minor": 4
}
