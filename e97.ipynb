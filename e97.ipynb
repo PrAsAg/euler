{
 "cells": [
  {
   "cell_type": "raw",
   "metadata": {},
   "source": [
    "digits: 28433×2^7830457+1.\n",
    "\n",
    "Find the last ten digits of this prime number."
   ]
  },
  {
   "cell_type": "code",
   "execution_count": 1,
   "metadata": {},
   "outputs": [
    {
     "name": "stdout",
     "output_type": "stream",
     "text": [
      "8739992577\n"
     ]
    }
   ],
   "source": [
    "#n= str((28433*(2**7830457))+1)\n",
    "#n=45242424424443434434243434224244243443434\n",
    "n=((28433*(2**7830457))+1)%10**10\n",
    "print(n)"
   ]
  },
  {
   "cell_type": "code",
   "execution_count": null,
   "metadata": {},
   "outputs": [],
   "source": []
  },
  {
   "cell_type": "code",
   "execution_count": null,
   "metadata": {},
   "outputs": [],
   "source": []
  }
 ],
 "metadata": {
  "kernelspec": {
   "display_name": "Python 3",
   "language": "python",
   "name": "python3"
  },
  "language_info": {
   "codemirror_mode": {
    "name": "ipython",
    "version": 3
   },
   "file_extension": ".py",
   "mimetype": "text/x-python",
   "name": "python",
   "nbconvert_exporter": "python",
   "pygments_lexer": "ipython3",
   "version": "3.7.4"
  }
 },
 "nbformat": 4,
 "nbformat_minor": 4
}
