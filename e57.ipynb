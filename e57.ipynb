{
 "cells": [
  {
   "cell_type": "raw",
   "metadata": {},
   "source": [
    "The approach to the brute force solution is to do a bit of pattern recognition of the fractions, a bit like the once you get on an IQ test, please continue the this sequence….\n",
    "\n",
    "We have \\frac{3}{2},\\frac{7}{5},\\frac{17}{12},\\frac{41}{29},\\frac{99}{70},\\frac{239}{169}…\n",
    "\n",
    "From this we can derive the following two formulas\n",
    "\n",
    " n_{k 1} = n_k   2d_k\n",
    "\n",
    " d_{k 1} = n_k   d_k\n",
    "\n",
    "where n means the numerator, and d means the denominator.  To calculate this in C# we would need two temporary variables to store the old values of the numerator and denominator, but it can be rewritten to\n",
    "\n",
    "n_{k 1} = n_k   2d_k\n",
    "\n",
    "d_{k 1} = n_{k 1} - d_k\n",
    "\n",
    "which means we only need two variables in order to store it."
   ]
  },
  {
   "cell_type": "code",
   "execution_count": 1,
   "metadata": {},
   "outputs": [],
   "source": [
    "def main():\n",
    "    den=2\n",
    "    num=3\n",
    "    result = 0\n",
    "    for i in range(1,1000):\n",
    "        num +=2*den\n",
    "        den= num-den\n",
    "#        print(num,\"/\",den)\n",
    "        if(len(str(num))>len(str(den))):\n",
    "            result += 1\n",
    "\n",
    "    return result"
   ]
  },
  {
   "cell_type": "code",
   "execution_count": 2,
   "metadata": {},
   "outputs": [
    {
     "data": {
      "text/plain": [
       "153"
      ]
     },
     "execution_count": 2,
     "metadata": {},
     "output_type": "execute_result"
    }
   ],
   "source": [
    "main()"
   ]
  },
  {
   "cell_type": "code",
   "execution_count": null,
   "metadata": {},
   "outputs": [],
   "source": []
  },
  {
   "cell_type": "code",
   "execution_count": null,
   "metadata": {},
   "outputs": [],
   "source": []
  }
 ],
 "metadata": {
  "kernelspec": {
   "display_name": "Python 3",
   "language": "python",
   "name": "python3"
  },
  "language_info": {
   "codemirror_mode": {
    "name": "ipython",
    "version": 3
   },
   "file_extension": ".py",
   "mimetype": "text/x-python",
   "name": "python",
   "nbconvert_exporter": "python",
   "pygments_lexer": "ipython3",
   "version": "3.7.4"
  }
 },
 "nbformat": 4,
 "nbformat_minor": 4
}
