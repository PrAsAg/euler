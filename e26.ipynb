{
 "cells": [
  {
   "cell_type": "code",
   "execution_count": 2,
   "metadata": {},
   "outputs": [],
   "source": [
    "#Project Euler Problem 26: First full reptend prime < N\n",
    "from sieve import prime_sieve\n"
   ]
  },
  {
   "cell_type": "code",
   "execution_count": 11,
   "metadata": {},
   "outputs": [],
   "source": [
    "def prime_sieve(n):\n",
    "    sieve = [True] * (n//2)\n",
    "    for i in range(3,int(n**0.5)+1,2):\n",
    "        if sieve[i//2]:\n",
    "            sieve[i*i//2::i] = [False] * ((n-i*i-1)//(2*i)+1)\n",
    "    return [2] + [2*i+1 for i in range(1,n//2) if sieve[i]]"
   ]
  },
  {
   "cell_type": "code",
   "execution_count": 17,
   "metadata": {},
   "outputs": [],
   "source": [
    "\n",
    "def f(N):\n",
    "    if N < 8: return 3\n",
    "    for d in prime_sieve(N)[::-1]:\n",
    "        period = 1\n",
    "        while pow(10, period, d) != 1: period += 1\n",
    "        if d-1 == period: return d\n",
    "  \n"
   ]
  },
  {
   "cell_type": "code",
   "execution_count": 18,
   "metadata": {},
   "outputs": [
    {
     "name": "stdin",
     "output_type": "stream",
     "text": [
      "The longest recurring cycle for 1/d where d < 1000\n"
     ]
    },
    {
     "name": "stdout",
     "output_type": "stream",
     "text": [
      "is d = 983\n"
     ]
    }
   ],
   "source": [
    "N = int(input('The longest recurring cycle for 1/d where d <'))\n",
    "print (\"is d =\", f(N))"
   ]
  },
  {
   "cell_type": "code",
   "execution_count": null,
   "metadata": {},
   "outputs": [],
   "source": []
  }
 ],
 "metadata": {
  "kernelspec": {
   "display_name": "Python 3",
   "language": "python",
   "name": "python3"
  },
  "language_info": {
   "codemirror_mode": {
    "name": "ipython",
    "version": 3
   },
   "file_extension": ".py",
   "mimetype": "text/x-python",
   "name": "python",
   "nbconvert_exporter": "python",
   "pygments_lexer": "ipython3",
   "version": "3.7.4"
  }
 },
 "nbformat": 4,
 "nbformat_minor": 4
}
